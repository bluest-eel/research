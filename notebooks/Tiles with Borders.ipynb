{
 "cells": [
  {
   "cell_type": "markdown",
   "metadata": {},
   "source": [
    "# Tiles with Borders\n",
    "\n",
    "[![Example tiles](files/images/4x4-tile-examples-thumb.png)](files/images/4x4-tile-examples.png)\n",
    "\n",
    "[![Example tiles](files/images/2x2-tile-examples-thumb.png)](files/images/2x2-tile-examples.png)\n",
    "\n",
    "[![Example tiles](files/images/8x8-tile-examples-thumb.png)](files/images/8x8-tile-examples.png)\n",
    "\n"
   ]
  },
  {
   "cell_type": "code",
   "execution_count": null,
   "metadata": {},
   "outputs": [],
   "source": []
  }
 ],
 "metadata": {
  "kernelspec": {
   "display_name": "Maxima",
   "language": "maxima",
   "name": "maxima"
  },
  "language_info": {
   "codemirror_mode": "maxima",
   "file_extension": ".mac",
   "mimetype": "text/x-maxima",
   "name": "maxima",
   "pygments_lexer": "maxima",
   "version": "5.43.0"
  }
 },
 "nbformat": 4,
 "nbformat_minor": 2
}

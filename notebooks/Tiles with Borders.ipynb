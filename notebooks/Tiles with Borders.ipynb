{
 "cells": [
  {
   "cell_type": "markdown",
   "metadata": {},
   "source": [
    "# Tiles with Borders\n",
    "\n",
    "We're exploring tiles of size $2^n$, where $n \\geqslant 3$, since tiles of size with the following:\n",
    "\n",
    "\n",
    "\n"
   ]
  },
  {
   "cell_type": "code",
   "execution_count": 4,
   "metadata": {},
   "outputs": [
    {
     "data": {
      "text/latex": [
       "\\[\\tag{${\\it \\%o}_{4}$}1\\]"
      ],
      "text/plain": [
       "(%o4)                                  1"
      ],
      "text/x-maxima": [
       "1"
      ]
     },
     "execution_count": 4,
     "metadata": {},
     "output_type": "execute_result"
    }
   ],
   "source": [
    "2^0;"
   ]
  },
  {
   "cell_type": "code",
   "execution_count": 5,
   "metadata": {},
   "outputs": [
    {
     "data": {
      "text/latex": [
       "\\[\\tag{${\\it \\%o}_{5}$}2\\]"
      ],
      "text/plain": [
       "(%o5)                                  2"
      ],
      "text/x-maxima": [
       "2"
      ]
     },
     "execution_count": 5,
     "metadata": {},
     "output_type": "execute_result"
    }
   ],
   "source": [
    "2^1;"
   ]
  },
  {
   "cell_type": "markdown",
   "metadata": {},
   "source": [
    "would result in a collection of tiles too small in size to be useful.\n",
    "\n",
    "We'll start with tiles of size where $n = 3$, giving us one tile, four tiles, and 16 tiles like the following:\n",
    "\n",
    "[![Example 4x4 tiles](files/images/4x4-tile-examples-thumb.png)](files/images/4x4-tile-examples.png)\n",
    "\n",
    "The example above shows tiles with borders and where those borders may have interaction with other tiles. In particular:\n",
    "\n",
    "* <font color=\"#C27BA0\" size=\"10px\">&#9632;</font> Cells with this colour are conflcit-free, contention-free zone: they will never have shared data for time steps  $t + 1$.\n",
    "* <font color=\"#6D9EEB\" size=\"10px\">&#9632;</font> Cells with this colour are those part of a tile's outer border. Since they are part of the outer border, with no overlap with cells of other tiles, they can only be considered temporarily conflict-free. This is due to the fact that the tiles could be moved or other tiles could be placed against their borders. As such, at every time step, we should check if a new tile has been placed adjacent; if not, we may continue to regard it as conflict-free for time steps  $t + 1$.\n",
    "* <font color=\"#3C78D8\" size=\"10px\">&#9632;</font> Dark blue cells are outer border cells of a tile that are adjacent to other tiles's outer border cells and could have shared data between two cells of two different tiles for time steps $t + 1$.\n",
    "* <font color=\"#8E7CC3\" size=\"10px\">&#9632;</font> Light purple cells are non-outer border cells of two adjacent tiless' non-outer border cells and could have shared data between two cells of two different tiles for time steps $t + 1$.\n",
    "* <font color=\"#674EA7\" size=\"10px\">&#9632;</font> Dark purple cells are non-outer border cells of four adjacent tiles' non-outer border cells and could have shared data between fours cells of four different tiles for time steps $t + 1$."
   ]
  },
  {
   "cell_type": "markdown",
   "metadata": {},
   "source": [
    "The case of $n = 2$ isn't all that interesting from a practical perspective, but we'll look at it for the purposes of mathematical consistency:\n",
    "\n",
    "[![Example 2x2 tiles](files/images/2x2-tile-examples-thumb.png)](files/images/2x2-tile-examples.png)\n",
    "\n",
    "For $n = 4$, we have this set of tiles (one tile, four tiles, and 16 tiles):\n",
    "\n",
    "[![Example 8x8 tiles](files/images/8x8-tile-examples-thumb.png)](files/images/8x8-tile-examples.png)\n"
   ]
  },
  {
   "cell_type": "code",
   "execution_count": null,
   "metadata": {},
   "outputs": [],
   "source": []
  }
 ],
 "metadata": {
  "kernelspec": {
   "display_name": "Maxima",
   "language": "maxima",
   "name": "maxima"
  },
  "language_info": {
   "codemirror_mode": "maxima",
   "file_extension": ".mac",
   "mimetype": "text/x-maxima",
   "name": "maxima",
   "pygments_lexer": "maxima",
   "version": "5.43.0"
  }
 },
 "nbformat": 4,
 "nbformat_minor": 2
}
